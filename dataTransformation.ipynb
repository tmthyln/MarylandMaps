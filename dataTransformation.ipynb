{
 "cells": [
  {
   "cell_type": "code",
   "execution_count": 42,
   "metadata": {},
   "outputs": [],
   "source": [
    "import pandas as pd\n",
    "import re\n",
    "import numpy as np\n",
    "df = pd.read_csv('data-scraper/maps_augmented.csv')"
   ]
  },
  {
   "cell_type": "code",
   "execution_count": 9,
   "metadata": {},
   "outputs": [],
   "source": [
    "sries = df['Type of Map'].astype('string')"
   ]
  },
  {
   "cell_type": "code",
   "execution_count": 15,
   "metadata": {},
   "outputs": [],
   "source": [
    "df['Type of Map'] = df.apply(lambda x: str(x['Type of Map']).lower(), axis = 1)"
   ]
  },
  {
   "cell_type": "code",
   "execution_count": 17,
   "metadata": {},
   "outputs": [],
   "source": [
    "df['Type of Map'].value_counts()"
   ]
  },
  {
   "cell_type": "code",
   "execution_count": 20,
   "metadata": {},
   "outputs": [],
   "source": [
    "def filterCat(typ):\n",
    "    if \"histor\" in typ:\n",
    "        return 'Historic'\n",
    "    if  \"region\" in typ:\n",
    "        return 'Regional'\n",
    "    if 'themat' in typ:\n",
    "        return 'Thematic'\n",
    "    else:\n",
    "        return 'Other'"
   ]
  },
  {
   "cell_type": "code",
   "execution_count": 21,
   "metadata": {},
   "outputs": [],
   "source": [
    "df['type_filter'] = df.apply(lambda x: filterCat(x['Type of Map']), axis = 1)"
   ]
  },
  {
   "cell_type": "code",
   "execution_count": 24,
   "metadata": {},
   "outputs": [],
   "source": [
    "df['type_filter'].unique()\n",
    "df.to_csv('data-scraper/maps_augmented1.1.csv')"
   ]
  },
  {
   "cell_type": "code",
   "execution_count": 36,
   "metadata": {},
   "outputs": [],
   "source": [
    "df['date_filter'] = df.apply"
   ]
  },
  {
   "cell_type": "code",
   "execution_count": 43,
   "metadata": {},
   "outputs": [],
   "source": [
    "re.search(\"\\d{4}\", \"fkl;asdjfk 1000 dsfa \")[0]\n",
    "def date_filter(date_string):\n",
    "    if date_string is None or date_string is np.nan:\n",
    "        return 1700\n",
    "    date = re.search('\\d{4}', date_string)\n",
    "    if date == None:\n",
    "        #placeholder\n",
    "        return 1700\n",
    "    else: return int(date[0])\n"
   ]
  },
  {
   "cell_type": "code",
   "execution_count": 45,
   "metadata": {},
   "outputs": [],
   "source": [
    "df['date_filter'] = df.apply(lambda x: date_filter(x['Year(s)']), axis = 1)\n",
    "df.to_csv('data-scraper/maps_augmented1.1.csv')"
   ]
  }
 ],
 "metadata": {
  "kernelspec": {
   "display_name": "Python 3",
   "language": "python",
   "name": "python3"
  },
  "language_info": {
   "codemirror_mode": {
    "name": "ipython",
    "version": 3
   },
   "file_extension": ".py",
   "mimetype": "text/x-python",
   "name": "python",
   "nbconvert_exporter": "python",
   "pygments_lexer": "ipython3",
   "version": "3.8.5"
  }
 },
 "nbformat": 4,
 "nbformat_minor": 4
}
